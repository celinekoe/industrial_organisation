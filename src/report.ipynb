{
 "cells": [
  {
   "cell_type": "markdown",
   "metadata": {},
   "source": [
    "### Libraries"
   ]
  },
  {
   "cell_type": "code",
   "execution_count": 1,
   "metadata": {},
   "outputs": [],
   "source": [
    "import importlib\n",
    "\n",
    "import config as Config\n",
    "import constants.labels as Labels\n",
    "import hangar.FirmBomberFactory as FirmBomberFactory\n",
    "import hangar.FundBomberFactory as FundBomberFactory\n",
    "import hangar.DisplayModule as DisplayModule\n",
    "import models.firm as FirmModel\n",
    "import models.funding as FundingModel\n",
    "import models.investor as InvestorModel\n",
    "import models.macro as MacroModel\n",
    "import utils.file as FileUtils\n",
    "import utils.industry as IndustryUtils\n",
    "import utils.visualiser as Visualiser\n",
    "import utils.tests as Tests\n",
    "\n",
    "import numpy as np\n",
    "import pandas as pd\n",
    "from linearmodels.panel import PanelOLS\n",
    "from linearmodels.panel import PooledOLS\n",
    "import statsmodels.api as sm\n",
    "\n",
    "def reload():\n",
    "  importlib.reload(Config)\n",
    "  importlib.reload(Visualiser)\n",
    "  importlib.reload(DisplayModule)\n",
    "  importlib.reload(Tests)\n",
    "  importlib.reload(FirmBomberFactory)"
   ]
  },
  {
   "cell_type": "markdown",
   "metadata": {},
   "source": [
    "### Configuration"
   ]
  },
  {
   "cell_type": "code",
   "execution_count": 2,
   "metadata": {},
   "outputs": [],
   "source": [
    "args = {\n",
    "  'country': 'united_states',\n",
    "  'all': False,\n",
    "}"
   ]
  },
  {
   "cell_type": "markdown",
   "metadata": {},
   "source": [
    "### Load Data"
   ]
  },
  {
   "cell_type": "markdown",
   "metadata": {},
   "source": [
    "#### Load Investor Data"
   ]
  },
  {
   "cell_type": "code",
   "execution_count": 3,
   "metadata": {},
   "outputs": [],
   "source": [
    "# Read Investor Data\n",
    "investors = FileUtils.read_pickle(f\"investors\")"
   ]
  },
  {
   "cell_type": "code",
   "execution_count": 4,
   "metadata": {},
   "outputs": [],
   "source": [
    "# Get Public Funded Investors\n",
    "public_funded_investors = InvestorModel.get_public_funded_investors(investors)"
   ]
  },
  {
   "cell_type": "markdown",
   "metadata": {},
   "source": [
    "#### Load Company Data"
   ]
  },
  {
   "cell_type": "code",
   "execution_count": 5,
   "metadata": {},
   "outputs": [],
   "source": [
    "# Read Company Data\n",
    "firms = FileUtils.read_pickle(f\"{args['country']}_firms\")"
   ]
  },
  {
   "cell_type": "code",
   "execution_count": 6,
   "metadata": {},
   "outputs": [],
   "source": [
    "# Read Domain Data\n",
    "domain_created_year = FileUtils.read_pickle('domain_created_year')"
   ]
  },
  {
   "cell_type": "code",
   "execution_count": 7,
   "metadata": {},
   "outputs": [],
   "source": [
    "# Filter and Enrich Company Data\n",
    "firms = FirmModel.filter_for_profit(firms)\n",
    "firms = FirmModel.enrich_founded_year(firms, domain_created_year)\n",
    "firms = FirmModel.filter_founded_year(firms, Config.start_year, Config.end_year)\n",
    "firms = FirmModel.enrich_public_funded(firms, public_funded_investors)\n",
    "firms = firms.reset_index(drop=True)"
   ]
  },
  {
   "cell_type": "markdown",
   "metadata": {},
   "source": [
    "#### Load Funding Data"
   ]
  },
  {
   "cell_type": "code",
   "execution_count": 8,
   "metadata": {},
   "outputs": [],
   "source": [
    "# Read Funding Data\n",
    "funding = FileUtils.read_pickle(f\"funding\")"
   ]
  },
  {
   "cell_type": "code",
   "execution_count": 9,
   "metadata": {},
   "outputs": [],
   "source": [
    "# Filter and Enrich Funding Data\n",
    "funding = FundingModel.filter_announced_year(funding, Config.start_year, Config.end_year)\n",
    "funding = FundingModel.enrich_public_funded(funding, public_funded_investors)"
   ]
  },
  {
   "cell_type": "markdown",
   "metadata": {},
   "source": [
    "#### Load Macro Data"
   ]
  },
  {
   "cell_type": "code",
   "execution_count": 10,
   "metadata": {},
   "outputs": [],
   "source": [
    "# Read Macro Data\n",
    "real_gdp = FileUtils.read_pickle('real_gdp')\n",
    "fed_rate = FileUtils.read_pickle('fed_rate')"
   ]
  },
  {
   "cell_type": "code",
   "execution_count": 11,
   "metadata": {},
   "outputs": [],
   "source": [
    "# Filter Macro Data\n",
    "real_gdp = real_gdp['United States']\n",
    "real_gdp = real_gdp[real_gdp.index >= Config.start_year]\n",
    "real_gdp = real_gdp[real_gdp.index < Config.end_year]\n",
    "\n",
    "fed_rate = fed_rate['Fed Rate']\n",
    "fed_rate = fed_rate[fed_rate.index >= Config.start_year]\n",
    "fed_rate = fed_rate[fed_rate.index < Config.end_year]"
   ]
  },
  {
   "cell_type": "code",
   "execution_count": 12,
   "metadata": {},
   "outputs": [],
   "source": [
    "# Store Macro Data\n",
    "macro = MacroModel.Macro(real_gdp, fed_rate)"
   ]
  },
  {
   "cell_type": "markdown",
   "metadata": {},
   "source": [
    "### Load Other Data"
   ]
  },
  {
   "cell_type": "code",
   "execution_count": 13,
   "metadata": {},
   "outputs": [],
   "source": [
    "# Industry Labels\n",
    "industry_groups = IndustryUtils.get_industry_groups()\n",
    "industries = IndustryUtils.get_industries()"
   ]
  },
  {
   "cell_type": "markdown",
   "metadata": {},
   "source": [
    "### Preprocess Data"
   ]
  },
  {
   "cell_type": "code",
   "execution_count": 14,
   "metadata": {},
   "outputs": [],
   "source": [
    "# Load Bombers\n",
    "reload()\n",
    "# firm_bomber_i = FirmBomberFactory.FirmBomber(firms, targets=industries, target_col=Labels.industries)\n",
    "firm_bomber_ig = FirmBomberFactory.FirmBomber(firms, targets=industry_groups, target_col=Labels.industry_groups)"
   ]
  },
  {
   "cell_type": "code",
   "execution_count": 15,
   "metadata": {},
   "outputs": [],
   "source": [
    "# Load Bombers\n",
    "# fundBomber = BomberFactory.FundBomber(funding, macro)\n",
    "# fundBomber = BomberFactory.FundBomber(refurb=fundBomber)"
   ]
  },
  {
   "cell_type": "markdown",
   "metadata": {},
   "source": [
    "### Companies: By Industry"
   ]
  },
  {
   "cell_type": "code",
   "execution_count": 16,
   "metadata": {},
   "outputs": [
    {
     "ename": "TypeError",
     "evalue": "report() missing 1 required positional argument: 'macro'",
     "output_type": "error",
     "traceback": [
      "\u001b[0;31m---------------------------------------------------------------------------\u001b[0m",
      "\u001b[0;31mTypeError\u001b[0m                                 Traceback (most recent call last)",
      "Cell \u001b[0;32mIn[16], line 2\u001b[0m\n\u001b[1;32m      1\u001b[0m firm_bomber_ig\u001b[38;5;241m.\u001b[39midentify()\n\u001b[0;32m----> 2\u001b[0m \u001b[43mfirm_bomber_ig\u001b[49m\u001b[38;5;241;43m.\u001b[39;49m\u001b[43mreport\u001b[49m\u001b[43m(\u001b[49m\u001b[43m)\u001b[49m\n\u001b[1;32m      3\u001b[0m firm_bomber_ig\u001b[38;5;241m.\u001b[39mdetailed_report()\n",
      "\u001b[0;31mTypeError\u001b[0m: report() missing 1 required positional argument: 'macro'"
     ]
    }
   ],
   "source": [
    "firm_bomber_ig.identify()\n",
    "firm_bomber_ig.report()\n",
    "firm_bomber_ig.detailed_report()"
   ]
  },
  {
   "cell_type": "markdown",
   "metadata": {},
   "source": [
    "### Funding: By Industry"
   ]
  },
  {
   "cell_type": "code",
   "execution_count": null,
   "metadata": {},
   "outputs": [
    {
     "data": {
      "image/png": "[encoded data removed]",
      "text/plain": [
       "<Figure size 640x480 with 1 Axes>"
      ]
     },
     "metadata": {},
     "output_type": "display_data"
    }
   ],
   "source": [
    "# fundBomber.identify()\n",
    "# fundBomber.report()\n"
   ]
  }
 ],
 "metadata": {
  "kernelspec": {
   "display_name": "venv",
   "language": "python",
   "name": "python3"
  },
  "language_info": {
   "codemirror_mode": {
    "name": "ipython",
    "version": 3
   },
   "file_extension": ".py",
   "mimetype": "text/x-python",
   "name": "python",
   "nbconvert_exporter": "python",
   "pygments_lexer": "ipython3",
   "version": "3.8.1"
  }
 },
 "nbformat": 4,
 "nbformat_minor": 2
}
