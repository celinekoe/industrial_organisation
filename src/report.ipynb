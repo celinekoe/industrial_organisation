{
 "cells": [
  {
   "cell_type": "markdown",
   "metadata": {},
   "source": [
    "### Configuration"
   ]
  },
  {
   "cell_type": "code",
   "execution_count": 1,
   "metadata": {},
   "outputs": [],
   "source": [
    "args = {\n",
    "  'country': 'united_states',\n",
    "  'currency': 'USD',\n",
    "  'start_year': 1960,\n",
    "  'end_year': 2020, # exclusive\n",
    "  'bubble_scale': 0.5,\n",
    "  'bubble_min_count': 100,\n",
    "  'all': False,\n",
    "}"
   ]
  },
  {
   "cell_type": "markdown",
   "metadata": {},
   "source": [
    "### Libraries"
   ]
  },
  {
   "cell_type": "code",
   "execution_count": 2,
   "metadata": {},
   "outputs": [],
   "source": [
    "import importlib\n",
    "\n",
    "import constants.firm as FirmConstants\n",
    "import constants.funding as FundingConstants\n",
    "\n",
    "import models.firm as FirmModel\n",
    "import models.funding as FundingModel\n",
    "import models.investor as InvestorModel\n",
    "\n",
    "import utils.file as FileUtils\n",
    "import utils.dataframe as DataUtils\n",
    "\n",
    "import utils.visual.visualiser as Visualiser\n",
    "import utils.visual.firm as FirmVisuals\n",
    "import utils.visual.funding as FundingVisuals\n",
    "import utils.visual.industry as IndustryVisuals\n",
    "import utils.visual.macro as MacroVisuals"
   ]
  },
  {
   "cell_type": "markdown",
   "metadata": {},
   "source": [
    "### Load Data"
   ]
  },
  {
   "cell_type": "markdown",
   "metadata": {},
   "source": [
    "#### Load Investor Data"
   ]
  },
  {
   "cell_type": "code",
   "execution_count": 3,
   "metadata": {},
   "outputs": [],
   "source": [
    "# Read Investor Data\n",
    "investors = FileUtils.read_pickle(f\"investors\")"
   ]
  },
  {
   "cell_type": "code",
   "execution_count": 4,
   "metadata": {},
   "outputs": [],
   "source": [
    "# Get Public Funded Investors\n",
    "public_funded_investors = InvestorModel.get_public_funded_investors(investors)"
   ]
  },
  {
   "cell_type": "markdown",
   "metadata": {},
   "source": [
    "#### Load Company Data"
   ]
  },
  {
   "cell_type": "code",
   "execution_count": 5,
   "metadata": {},
   "outputs": [],
   "source": [
    "# Read Company Data\n",
    "firms = FileUtils.read_pickle(f\"{args['country']}_firms\")"
   ]
  },
  {
   "cell_type": "code",
   "execution_count": 6,
   "metadata": {},
   "outputs": [],
   "source": [
    "# Read Domain Data\n",
    "domain_created_year = FileUtils.read_pickle('domain_created_year')"
   ]
  },
  {
   "cell_type": "code",
   "execution_count": 7,
   "metadata": {},
   "outputs": [],
   "source": [
    "# Update Company Data\n",
    "firms = FirmModel.enrich_founded_year(firms, domain_created_year)\n",
    "firms = FirmModel.enrich_public_funded(firms, public_funded_investors)\n",
    "firms = FirmModel.filter_for_profit(firms)\n",
    "firms = FirmModel.filter_founded_year(firms, args['start_year'], args['end_year'])\n",
    "firms = firms.reset_index(drop=True)"
   ]
  },
  {
   "cell_type": "markdown",
   "metadata": {},
   "source": [
    "#### Load Funding Data"
   ]
  },
  {
   "cell_type": "code",
   "execution_count": 8,
   "metadata": {},
   "outputs": [],
   "source": [
    "# Read Funding Data\n",
    "funding = FileUtils.read_pickle(f\"funding\")"
   ]
  },
  {
   "cell_type": "code",
   "execution_count": 9,
   "metadata": {},
   "outputs": [],
   "source": [
    "# Update Funding Data\n",
    "funding = FundingModel.enrich_public_funded(funding, public_funded_investors)\n",
    "funding = FundingModel.filter_announced_year(funding, args['start_year'], args['end_year'])\n",
    "funding = FundingModel.filter_currency(funding, 'USD')\n"
   ]
  },
  {
   "cell_type": "markdown",
   "metadata": {},
   "source": [
    "#### Load Macro Data"
   ]
  },
  {
   "cell_type": "code",
   "execution_count": 10,
   "metadata": {},
   "outputs": [],
   "source": [
    "# Read Macro Data\n",
    "real_gdp = FileUtils.read_pickle('real_gdp')\n",
    "fed_rate = FileUtils.read_pickle('fed_rate')"
   ]
  },
  {
   "cell_type": "code",
   "execution_count": 11,
   "metadata": {},
   "outputs": [],
   "source": [
    "# Update Macro Data\n",
    "real_gdp = real_gdp['United States']\n",
    "real_gdp = real_gdp[real_gdp.index >= args['start_year']]\n",
    "real_gdp = real_gdp[real_gdp.index < args['end_year']]\n",
    "\n",
    "fed_rate = fed_rate['Fed Rate']\n",
    "fed_rate = fed_rate[fed_rate.index >= args['start_year']]\n",
    "fed_rate = fed_rate[fed_rate.index < args['end_year']]"
   ]
  },
  {
   "cell_type": "code",
   "execution_count": 21,
   "metadata": {},
   "outputs": [],
   "source": [
    "importlib.reload(MacroVisuals)\n",
    "# Store Macro Data\n",
    "macro = MacroVisuals.Macro(real_gdp, fed_rate)"
   ]
  },
  {
   "cell_type": "markdown",
   "metadata": {},
   "source": [
    "### Macro"
   ]
  },
  {
   "cell_type": "code",
   "execution_count": 13,
   "metadata": {},
   "outputs": [],
   "source": [
    "if args['all']:\n",
    "  macro.plot()"
   ]
  },
  {
   "cell_type": "markdown",
   "metadata": {},
   "source": [
    "### Companies: All"
   ]
  },
  {
   "cell_type": "code",
   "execution_count": 14,
   "metadata": {},
   "outputs": [],
   "source": [
    "if args['all']:\n",
    "  FirmVisuals.plot(firms, macro)\n",
    "  FirmVisuals.plot_macro(firms, macro)\n",
    "  FirmVisuals.plot_STEM(firms, macro)\n",
    "  FirmVisuals.plot_STEM_macro(firms, macro)\n",
    "  FirmVisuals.plot_public_funded(firms, macro)\n",
    "  FirmVisuals.plot_public_funded_macro(firms, macro)\n",
    "  # FirmVisuals.stack_STEM_public_funded(firms)"
   ]
  },
  {
   "cell_type": "markdown",
   "metadata": {},
   "source": [
    "### Companies: By Industry Group"
   ]
  },
  {
   "cell_type": "code",
   "execution_count": 31,
   "metadata": {},
   "outputs": [
    {
     "name": "stdout",
     "output_type": "stream",
     "text": [
      "4\n",
      "60\n",
      "60\n",
      "2015    38.705882\n",
      "2016    21.119593\n",
      "2017    11.904762\n",
      "2018    -1.814768\n",
      "2019   -11.344806\n",
      "dtype: float64\n",
      "Year\n",
      "2015    0.083333\n",
      "2016    0.315000\n",
      "2017    0.953333\n",
      "2018    1.871667\n",
      "2019    2.133333\n",
      "Name: Fed Rate, dtype: float64\n",
      "\n",
      "Granger Causality\n",
      "number of lags (no zero) 1\n",
      "ssr based F test:         F=0.0714  , p=0.7904  , df_denom=51, df_num=1\n",
      "ssr based chi2 test:   chi2=0.0756  , p=0.7834  , df=1\n",
      "likelihood ratio test: chi2=0.0755  , p=0.7835  , df=1\n",
      "parameter F test:         F=0.0714  , p=0.7904  , df_denom=51, df_num=1\n",
      "\n",
      "Granger Causality\n",
      "number of lags (no zero) 2\n",
      "ssr based F test:         F=0.3919  , p=0.6779  , df_denom=48, df_num=2\n",
      "ssr based chi2 test:   chi2=0.8654  , p=0.6487  , df=2\n",
      "likelihood ratio test: chi2=0.8584  , p=0.6510  , df=2\n",
      "parameter F test:         F=0.3919  , p=0.6779  , df_denom=48, df_num=2\n"
     ]
    },
    {
     "data": {
      "image/png": "[encoded data removed]",
      "text/plain": [
       "<Figure size 640x480 with 1 Axes>"
      ]
     },
     "metadata": {},
     "output_type": "display_data"
    }
   ],
   "source": [
    "FirmVisuals.plot_industry_group(firms, 'Artificial Intelligence (AI)', macro)\n"
   ]
  },
  {
   "cell_type": "code",
   "execution_count": null,
   "metadata": {},
   "outputs": [],
   "source": [
    "IndustryVisuals.visualise_industry_group(firms, 'Biotechnology', fed_rate)"
   ]
  },
  {
   "cell_type": "code",
   "execution_count": null,
   "metadata": {},
   "outputs": [],
   "source": [
    "IndustryVisuals.IndustryVisuals.IndustryVisuals.IndustryVisuals.IndustryVisuals.IndustryVisuals.IndustryVisuals.IndustryVisuals.IndustryVisuals.IndustryVisuals.IndustryVisuals.visualise_industry_group(firms, 'Sustainability', fed_rate)"
   ]
  },
  {
   "cell_type": "code",
   "execution_count": null,
   "metadata": {},
   "outputs": [],
   "source": [
    "IndustryVisuals.visualise_industry_group(firms, 'Blockchain and Cryptocurrency', fed_rate)"
   ]
  },
  {
   "cell_type": "code",
   "execution_count": null,
   "metadata": {},
   "outputs": [],
   "source": [
    "IndustryVisuals.IndustryVisuals.IndustryVisuals.IndustryVisuals.visualise_industry_group(firms, 'Science and Engineering', fed_rate)"
   ]
  },
  {
   "cell_type": "code",
   "execution_count": null,
   "metadata": {},
   "outputs": [],
   "source": [
    "IndustryVisuals.visualise_industry_group(firms, 'Administrative Services', fed_rate)"
   ]
  },
  {
   "cell_type": "code",
   "execution_count": null,
   "metadata": {},
   "outputs": [],
   "source": [
    "IndustryVisuals.IndustryVisuals.IndustryVisuals.IndustryVisuals.visualise_industry_group(firms, 'Financial Services', fed_rate)"
   ]
  },
  {
   "cell_type": "code",
   "execution_count": null,
   "metadata": {},
   "outputs": [],
   "source": [
    "IndustryVisuals.visualise_industry_group(firms, 'Manufacturing', fed_rate)"
   ]
  },
  {
   "cell_type": "markdown",
   "metadata": {},
   "source": [
    "### Funding: All"
   ]
  },
  {
   "cell_type": "code",
   "execution_count": null,
   "metadata": {},
   "outputs": [],
   "source": [
    "funding_year_count, funding_year_count_growth = DataUtils.get_year_count(funding, FundingConstants.year_label)\n",
    "funding_year_sum, funding_year_sum_growth = DataUtils.get_year_sum(funding, FundingConstants.year_label, FundingConstants.raised_label)\n",
    "\n",
    "Visualiser.plot(funding_year_count, 'Funding: Count', 'Count', year_start=1990, highlight=recessions)\n",
    "Visualiser.plot(funding_year_count_growth, 'Funding: Count: Growth', 'Growth', year_start=1990, highlight=recessions)\n",
    "Visualiser.plot(funding_year_sum, 'Funding: Money Raised', 'Sum', year_start=1990, highlight=recessions)\n",
    "Visualiser.plot(funding_year_sum_growth, 'Funding: Money Raised: Growth', 'Growth', year_start=1990, highlight=recessions)"
   ]
  },
  {
   "cell_type": "markdown",
   "metadata": {},
   "source": [
    "### Funding: STEM and Public Funded"
   ]
  },
  {
   "cell_type": "code",
   "execution_count": null,
   "metadata": {},
   "outputs": [],
   "source": [
    "# funding_STEM_year_sum_percent = DataUtils.get_STEM_year_percent(funding, FundingConstants.year_label, FundingConstants.raised_label)\n",
    "# funding_public_year_sum_percent = DataUtils.get_public_funded_year_percent(funding, FundingConstants.year_label, FundingConstants.raised_label)\n",
    "# funding_STEM_public_funded_year_sum_percent = DataUtils.get_STEM_public_year_percent(funding, FundingConstants.year_label, FundingConstants.raised_label)\n",
    "\n",
    "# Visualiser.stack(funding_STEM_year_sum_percent, 'STEM Funding: Sum: Percent', '%', STEM_stack_labels, colors=STEM_colors, year_start=1990)\n",
    "# Visualiser.stack(funding_public_year_sum_percent, 'Public Funding: Sum: Percent', '%', public_funded_stack_labels, colors=public_funded_colors, year_start=1990)\n",
    "# Visualiser.stack(funding_STEM_public_funded_year_sum_percent, 'STEM Public Funding: Sum: Percent', '%', ['Not STEM Private Funded', 'STEM Private Funded', 'Not STEM Public Funded', 'STEM Public Funded'], colors=STEM_public_year_percent_colors, year_start=1990)\n",
    "FundingVisuals.stack_STEM_public_funded(funding)"
   ]
  },
  {
   "cell_type": "code",
   "execution_count": null,
   "metadata": {},
   "outputs": [],
   "source": [
    "macro.regression(funding_year_sum_growth)"
   ]
  },
  {
   "cell_type": "markdown",
   "metadata": {},
   "source": [
    "### Funding: By Industry"
   ]
  },
  {
   "cell_type": "code",
   "execution_count": null,
   "metadata": {},
   "outputs": [],
   "source": []
  }
 ],
 "metadata": {
  "kernelspec": {
   "display_name": "venv",
   "language": "python",
   "name": "python3"
  },
  "language_info": {
   "codemirror_mode": {
    "name": "ipython",
    "version": 3
   },
   "file_extension": ".py",
   "mimetype": "text/x-python",
   "name": "python",
   "nbconvert_exporter": "python",
   "pygments_lexer": "ipython3",
   "version": "3.8.1"
  }
 },
 "nbformat": 4,
 "nbformat_minor": 2
}
