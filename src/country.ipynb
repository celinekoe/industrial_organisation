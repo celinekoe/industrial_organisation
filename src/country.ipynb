{
 "cells": [
  {
   "cell_type": "markdown",
   "metadata": {},
   "source": [
    "### Configuration"
   ]
  },
  {
   "cell_type": "code",
   "execution_count": 1,
   "metadata": {},
   "outputs": [],
   "source": [
    "args = {\n",
    "  'country': 'united_states',\n",
    "  'start_year': 1960,\n",
    "  'end_year': 2020, # exclusive\n",
    "  'real_gdp_scale': 1000000,\n",
    "  'bubble_scale': 0.5,\n",
    "  'bubble_min_count': 100,\n",
    "}"
   ]
  },
  {
   "cell_type": "markdown",
   "metadata": {},
   "source": [
    "### Libraries"
   ]
  },
  {
   "cell_type": "code",
   "execution_count": 2,
   "metadata": {},
   "outputs": [],
   "source": [
    "import pandas as pd\n",
    "from flatten_dict import flatten\n",
    "\n",
    "import constants.tags as TagConstants\n",
    "import utils.file as File\n",
    "import utils.visualiser as Visualiser\n",
    "\n",
    "import utils.firms as Firm\n",
    "\n",
    "def get_year_count(firms):\n",
    "  return firms.groupby(['Founded Year']).size()\n",
    "\n",
    "def get_scaled_year_count(firms, real_gdp):\n",
    "  year_count = firms.groupby(['Founded Year']).size()\n",
    "  scaled_year_count = year_count / real_gdp.loc[year_count.index] * args['real_gdp_scale']\n",
    "\n",
    "  return scaled_year_count\n",
    "\n",
    "def get_tag_group_year_count(firms, tag_group):\n",
    "  tag_group_firms = firms[firms['Tag Groups'].apply(lambda firm_tag_group: tag_group in firm_tag_group)]\n",
    "  tag_group_year_count = tag_group_firms.groupby(['Founded Year']).size()\n",
    "  tag_group_max_count = tag_group_year_count.max()\n",
    "\n",
    "  return tag_group_year_count, tag_group_max_count\n",
    "\n",
    "def get_tag_year_count(firms, tag):\n",
    "  tag_firms = firms[firms['Tags'].apply(lambda firm_tag: tag in firm_tag)]\n",
    "  tag_year_count = tag_firms.groupby(['Founded Year']).size()\n",
    "  tag_max_count = tag_year_count.max()\n",
    "  \n",
    "  return tag_year_count, tag_max_count\n",
    "\n",
    "def get_tag_group_tags(tag_group):\n",
    "  tag_group_tag_map = TagConstants.tag_group_tag_map\n",
    "  return tag_group_tag_map[tag_group]\n",
    "\n",
    "def get_tag_group_tag_count(firms, tag_group):\n",
    "  tag_group_tags = get_tag_group_tags(tag_group)\n",
    "\n",
    "  tag_year_count_map = {}\n",
    "  tag_max_count_map = {}\n",
    "  for tag in tag_group_tags:\n",
    "    tag_firms = firms[firms['Tags'].apply(lambda firm_tag: tag in firm_tag)]\n",
    "    tag_year_count = tag_firms.groupby(['Founded Year']).size()\n",
    "\n",
    "    tag_year_count_map[tag] = tag_year_count\n",
    "    tag_max_count_map[tag] = tag_year_count.max()\n",
    "\n",
    "  return tag_year_count_map, tag_max_count_map\n",
    "\n",
    "def get_tags():\n",
    "  tags = [item for sublist in TagConstants.tag_group_tag_map.values() for item in sublist]\n",
    "  tags = list(set(tags))\n",
    "  return sorted(tags)\n"
   ]
  },
  {
   "cell_type": "markdown",
   "metadata": {},
   "source": [
    "### Run"
   ]
  },
  {
   "cell_type": "code",
   "execution_count": 3,
   "metadata": {},
   "outputs": [],
   "source": [
    "# Read Firm Data\n",
    "firms = File.read_pickle(f\"{args['country']}_firms\")"
   ]
  },
  {
   "cell_type": "code",
   "execution_count": 4,
   "metadata": {},
   "outputs": [],
   "source": [
    "# Read Domain Data\n",
    "domain_created_year_map = File.read_pickle('domain_created_year_map')"
   ]
  },
  {
   "cell_type": "code",
   "execution_count": 5,
   "metadata": {},
   "outputs": [],
   "source": [
    "# Filter Firms\n",
    "firms = Firm.enrich_founded_year(firms, domain_created_year_map)\n",
    "firms = Firm.enrich_science(firms, TagConstants.stem_tags)\n",
    "firms = firms[firms['Company Type'] == 'For Profit']\n",
    "firms = firms[pd.notna(firms['Founded Year'])]\n",
    "firms = firms[firms['Founded Year'] >= args['start_year']]\n",
    "firms = firms[firms['Founded Year'] < args['end_year']]\n",
    "firms = firms.reset_index(drop=True)"
   ]
  },
  {
   "cell_type": "code",
   "execution_count": 6,
   "metadata": {},
   "outputs": [],
   "source": [
    "# Read Macro Data\n",
    "real_gdp = File.read_pickle('real_gdp')\n",
    "fed_rate = File.read_pickle('fed_rate')"
   ]
  },
  {
   "cell_type": "code",
   "execution_count": 7,
   "metadata": {},
   "outputs": [],
   "source": [
    "# Filter Macro Data\n",
    "real_gdp = real_gdp['United States']\n",
    "real_gdp = real_gdp[real_gdp.index >= args['start_year']]\n",
    "real_gdp = real_gdp[real_gdp.index < args['end_year']]\n",
    "\n",
    "fed_rate = fed_rate[fed_rate.index >= args['start_year']]\n",
    "fed_rate = fed_rate[fed_rate.index < args['end_year']]\n",
    "# first_fed_rate = fed_rate.loc[fed_rate['Fed Rate'].first_valid_index(), 'Fed Rate']\n",
    "# fed_rate = fed_rate.reindex(range(args['start_year'], args['end_year'])).fillna(value=first_fed_rate)"
   ]
  },
  {
   "cell_type": "code",
   "execution_count": 8,
   "metadata": {},
   "outputs": [],
   "source": [
    "year_count = get_year_count(firms)\n",
    "scaled_year_count = get_scaled_year_count(firms, real_gdp)\n",
    "\n",
    "stem_year_count, stem_max_count = get_tag_group_year_count(firms, 'Science and Engineering')\n",
    "# ai_year_count = get_tag_group_year_count(firms, 'Artificial Intelligence (AI)')\n",
    "# biotech_year_count = get_tag_group_year_count(firms, 'Biotechnology')\n",
    "search_year_count, search_max_count = get_tag_year_count(firms, 'Search Engine')\n",
    "solar_year_count, solar_max_count = get_tag_year_count(firms, 'Solar')\n",
    "\n",
    "stem_tag_group = 'Science and Engineering'\n",
    "stem_tag_year_count, stem_tag_year_max_count = get_tag_group_tag_count(firms, stem_tag_group)"
   ]
  },
  {
   "cell_type": "code",
   "execution_count": 9,
   "metadata": {},
   "outputs": [
    {
     "name": "stdout",
     "output_type": "stream",
     "text": [
      "801\n",
      "[]\n",
      "0\n"
     ]
    }
   ],
   "source": [
    "tags = get_tags()\n",
    "print(len(tags))\n",
    "bubble_tags = []\n",
    "\n",
    "tag_year_count_map = {}\n",
    "tag_max_count_map = {}\n",
    "for tag in tags:\n",
    "  tag_year_count, tag_max_count = get_tag_year_count(firms, tag)\n",
    "  tag_year_count_map[tag] = tag_year_count\n",
    "  tag_max_count_map[tag] = tag_max_count\n",
    "\n",
    "  tag_current_count = tag_max_count\n",
    "  for year in range(args['end_year'], 0, -1):\n",
    "    if year in tag_year_count:\n",
    "        tag_current_count = tag_year_count[year]\n",
    "        break\n",
    "  \n",
    "  if tag_max_count > args['bubble_min_count'] and tag_max_count * args['bubble_scale'] > tag_current_count:\n",
    "    bubble_tags.append(tag)\n",
    "\n",
    "print(bubble_tags)\n",
    "print(len(bubble_tags))\n",
    "\n",
    "# ai_count = tag_year_count_map['Artificial Intelligence (AI)']\n",
    "# ai_max = tag_max_count_map['Artificial Intelligence (AI)']\n",
    "# print(ai_count)\n",
    "# print(f\"ai_max: {ai_max}\")\n",
    "# scaled_max = ai_max * args['bubble_scale']\n",
    "# print(scaled_max)\n",
    "\n",
    "#   tag_current_count = ai_max\n",
    "#   for year in range(args['end_year'], 0, -1):\n",
    "#     if year in ai_count:\n",
    "#         tag_current_count = tag_year_count[year]\n"
   ]
  },
  {
   "cell_type": "code",
   "execution_count": 10,
   "metadata": {},
   "outputs": [
    {
     "data": {
      "image/png": "[encoded data removed]",
      "text/plain": [
       "<Figure size 1000x600 with 1 Axes>"
      ]
     },
     "metadata": {},
     "output_type": "display_data"
    }
   ],
   "source": [
    "# Visualiser.plot(year_count, 'Count')\n",
    "# Visualiser.show()\n",
    "\n",
    "# Visualiser.plot(scaled_year_count, 'Scaled Count')\n",
    "# Visualiser.show()\n",
    "\n",
    "# Visualiser.plot(stem_year_count, 'Count')\n",
    "# Visualiser.show()\n",
    "\n",
    "Visualiser.plot(tag_year_count_map['Artificial Intelligence (AI)'], 'Count')\n",
    "Visualiser.show()\n",
    "\n",
    "\n",
    "# Visualiser.plot(search_year_count, 'Count')\n",
    "# Visualiser.show()\n",
    "\n",
    "# Visualiser.plot(solar_year_count, 'Count')\n",
    "# Visualiser.show()\n",
    "\n",
    "# Visualiser.plot_dict(stem_tag_year_count, 'Log Count')\n",
    "# Visualiser.show()"
   ]
  }
 ],
 "metadata": {
  "kernelspec": {
   "display_name": "venv",
   "language": "python",
   "name": "python3"
  },
  "language_info": {
   "codemirror_mode": {
    "name": "ipython",
    "version": 3
   },
   "file_extension": ".py",
   "mimetype": "text/x-python",
   "name": "python",
   "nbconvert_exporter": "python",
   "pygments_lexer": "ipython3",
   "version": "3.8.1"
  }
 },
 "nbformat": 4,
 "nbformat_minor": 2
}
