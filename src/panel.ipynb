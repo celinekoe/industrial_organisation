{
 "cells": [
  {
   "cell_type": "markdown",
   "metadata": {},
   "source": [
    "### Libraries"
   ]
  },
  {
   "cell_type": "code",
   "execution_count": 1,
   "metadata": {},
   "outputs": [],
   "source": [
    "import importlib\n",
    "\n",
    "import config as Config\n",
    "import constants.labels as Labels\n",
    "import hangar.FirmBomberFactory as FirmBomberFactory\n",
    "import hangar.FundBomberFactory as FundBomberFactory\n",
    "import hangar.DisplayModule as DisplayModule\n",
    "import models.firm as FirmModel\n",
    "import models.funding as FundingModel\n",
    "import models.investor as InvestorModel\n",
    "import models.macro as MacroModel\n",
    "import utils.dataframe as dfUtils\n",
    "import utils.file as FileUtils\n",
    "import utils.industry as IndustryUtils\n",
    "import utils.visualiser as Visualiser\n",
    "import utils.tests as Tests\n",
    "\n",
    "def reload():\n",
    "  importlib.reload(Config)\n",
    "  importlib.reload(Visualiser)\n",
    "  importlib.reload(DisplayModule)\n",
    "  importlib.reload(Tests)\n",
    "  importlib.reload(FirmBomberFactory)\n",
    "  importlib.reload(FundBomberFactory)"
   ]
  },
  {
   "cell_type": "markdown",
   "metadata": {},
   "source": [
    "### Configuration\n",
    "Configuration specified in src/config.js to avoid passing the same configurations around. Modify configurations as required, then run reload() to reload configurations without restarting the environment."
   ]
  },
  {
   "cell_type": "markdown",
   "metadata": {},
   "source": [
    "### Load Data\n",
    "Data obtained from Crunchbase and CEIC (for macro data), preprocessed, then stored in pickle files. This section retrieves the stored data and does additional preprocessing."
   ]
  },
  {
   "cell_type": "markdown",
   "metadata": {},
   "source": [
    "#### Load Investor Data"
   ]
  },
  {
   "cell_type": "code",
   "execution_count": 2,
   "metadata": {},
   "outputs": [],
   "source": [
    "# Read Investor Data\n",
    "investors = FileUtils.read_pickle(f\"investors\")"
   ]
  },
  {
   "cell_type": "code",
   "execution_count": 3,
   "metadata": {},
   "outputs": [],
   "source": [
    "# Get Public Funded Investors\n",
    "public_funded_investors = InvestorModel.get_public_funded_investors(investors)"
   ]
  },
  {
   "cell_type": "markdown",
   "metadata": {},
   "source": [
    "#### Load Company Data"
   ]
  },
  {
   "cell_type": "code",
   "execution_count": 4,
   "metadata": {},
   "outputs": [],
   "source": [
    "# Read Company Data\n",
    "firms = FileUtils.read_pickle(f\"{Config.country}_firms\")"
   ]
  },
  {
   "cell_type": "code",
   "execution_count": 5,
   "metadata": {},
   "outputs": [],
   "source": [
    "# Read Domain Data\n",
    "domain_created_year = FileUtils.read_pickle('domain_created_year')"
   ]
  },
  {
   "cell_type": "code",
   "execution_count": 6,
   "metadata": {},
   "outputs": [],
   "source": [
    "# Filter and Enrich Company Data\n",
    "firms = FirmModel.filter_for_profit(firms)\n",
    "firms = FirmModel.enrich_founded_year(firms, domain_created_year)\n",
    "firms = FirmModel.filter_founded_year(firms, Config.start_year, Config.end_year)\n",
    "firms = FirmModel.enrich_public_funded(firms, public_funded_investors)\n",
    "firms = firms.reset_index(drop=True)"
   ]
  },
  {
   "cell_type": "markdown",
   "metadata": {},
   "source": [
    "#### Load Funding Data"
   ]
  },
  {
   "cell_type": "code",
   "execution_count": 7,
   "metadata": {},
   "outputs": [],
   "source": [
    "# Read Funding Data\n",
    "funding = FileUtils.read_pickle(f\"funding\")"
   ]
  },
  {
   "cell_type": "code",
   "execution_count": 8,
   "metadata": {},
   "outputs": [],
   "source": [
    "# Filter and Enrich Funding Data\n",
    "funding = FundingModel.filter_announced_year(funding, Config.start_year, Config.end_year)\n",
    "funding = FundingModel.enrich_public_funded(funding, public_funded_investors)"
   ]
  },
  {
   "cell_type": "markdown",
   "metadata": {},
   "source": [
    "#### Load Macro Data"
   ]
  },
  {
   "cell_type": "code",
   "execution_count": 9,
   "metadata": {},
   "outputs": [],
   "source": [
    "# Read Macro Data\n",
    "real_gdp = FileUtils.read_pickle('real_gdp')\n",
    "fed_rate = FileUtils.read_pickle('fed_rate')"
   ]
  },
  {
   "cell_type": "code",
   "execution_count": 10,
   "metadata": {},
   "outputs": [],
   "source": [
    "# Filter Macro Data\n",
    "real_gdp = real_gdp['United States']\n",
    "real_gdp = real_gdp[real_gdp.index >= Config.start_year]\n",
    "real_gdp = real_gdp[real_gdp.index < Config.end_year]\n",
    "\n",
    "fed_rate = fed_rate['Fed Rate']\n",
    "fed_rate = fed_rate[fed_rate.index >= Config.start_year]\n",
    "fed_rate = fed_rate[fed_rate.index < Config.end_year]"
   ]
  },
  {
   "cell_type": "code",
   "execution_count": 11,
   "metadata": {},
   "outputs": [],
   "source": [
    "# Store Macro Data\n",
    "macro = MacroModel.Macro(real_gdp, fed_rate)"
   ]
  },
  {
   "cell_type": "markdown",
   "metadata": {},
   "source": [
    "### Load Other Data"
   ]
  },
  {
   "cell_type": "code",
   "execution_count": 12,
   "metadata": {},
   "outputs": [],
   "source": [
    "# Industry Labels\n",
    "industry_groups = IndustryUtils.get_industry_groups()\n",
    "industries = IndustryUtils.get_industries()"
   ]
  },
  {
   "cell_type": "markdown",
   "metadata": {},
   "source": [
    "### Preprocess Data"
   ]
  },
  {
   "cell_type": "code",
   "execution_count": 13,
   "metadata": {},
   "outputs": [],
   "source": [
    "# Load Bombers\n",
    "# reload()\n",
    "firm_bomber_i = FirmBomberFactory.FirmBomber(firms, targets=industries, target_col=Labels.industries)\n",
    "firm_bomber_ig = FirmBomberFactory.FirmBomber(firms, targets=industry_groups, target_col=Labels.industry_groups)"
   ]
  },
  {
   "cell_type": "code",
   "execution_count": 45,
   "metadata": {},
   "outputs": [],
   "source": [
    "# Load Bombers\n",
    "# reload()\n",
    "fund_bomber_ig = FundBomberFactory.FundBomber(funding, targets=industry_groups, target_col=Labels.industry_groups)\n",
    "fund_bomber_i = FundBomberFactory.FundBomber(funding, targets=industries, target_col=Labels.industries)"
   ]
  },
  {
   "cell_type": "markdown",
   "metadata": {},
   "source": [
    "### Research Question: \"Trend-Following\"\n",
    "Have company founders and investors become more prone to trend-following over time, rather than relying on their own judgement? Trend-following results in bubbly behaviour, with sharp spikes and sharp drops, likely cause issues as bad causes are funded in the bubble and good causes are not funded in the crash. Note that a bubble can be defined as \"trend-following\" or as \"deviation from fundamentals\"; it's possible to follow a trend and by coincidence approach the fundamentals, though this likely does not hold true in the long run. I will use the \"trend-following\" definition, since \"fundamental\" are difficult to define, and understanding trend-following behaviour is still is empirically useful.\n",
    "\n",
    "I use a year range of 1960 to 2019 as that is what is available on both Crunchbase and CEIC (for macro data), as well as to avoid what looks like incomplete data post 2019. There are dramatically few companies being reported to be founded around that time period, which may be partially attributed to the Coronavirus pandemic, but is still somewhat suspect."
   ]
  },
  {
   "cell_type": "code",
   "execution_count": 52,
   "metadata": {},
   "outputs": [
    {
     "name": "stdout",
     "output_type": "stream",
     "text": [
      "results:                           PanelOLS Estimation Summary                           \n",
      "================================================================================\n",
      "Dep. Variable:          rolling_value   R-squared:                        0.0286\n",
      "Estimator:                   PanelOLS   R-squared (Between):             -0.0235\n",
      "No. Observations:                1262   R-squared (Within):               0.0286\n",
      "Date:                Sat, Mar 02 2024   R-squared (Overall):              0.0245\n",
      "Time:                        19:17:50   Log-likelihood                   -3284.6\n",
      "Cov. Estimator:             Clustered                                           \n",
      "                                        F-statistic:                      17.837\n",
      "Entities:                          49   P-value                           0.0000\n",
      "Avg Obs:                       25.755   Distribution:                  F(2,1211)\n",
      "Min Obs:                       18.000                                           \n",
      "Max Obs:                       30.000   F-statistic (robust):             8.7802\n",
      "                                        P-value                           0.0002\n",
      "Time periods:                      30   Distribution:                  F(2,1211)\n",
      "Avg Obs:                       42.067                                           \n",
      "Min Obs:                       12.000                                           \n",
      "Max Obs:                       49.000                                           \n",
      "                                                                                \n",
      "                             Parameter Estimates                              \n",
      "==============================================================================\n",
      "            Parameter  Std. Err.     T-stat    P-value    Lower CI    Upper CI\n",
      "------------------------------------------------------------------------------\n",
      "const         -1.3244     0.6778    -1.9541     0.0509     -2.6542      0.0053\n",
      "year_norm      0.0907     0.0265     3.4294     0.0006      0.0388      0.1426\n",
      "fed_rate       0.0946     0.1017     0.9299     0.3526     -0.1050      0.2942\n",
      "==============================================================================\n",
      "\n",
      "F-test for Poolability: 2.2049\n",
      "P-value: 0.0000\n",
      "Distribution: F(48,1211)\n",
      "\n",
      "Included effects: Entity\n"
     ]
    },
    {
     "name": "stderr",
     "output_type": "stream",
     "text": [
      "/Users/celine/Projects/IO/venv/lib/python3.8/site-packages/linearmodels/panel/model.py:1216: MissingValueWarning: \n",
      "Inputs contain missing values. Dropping rows with missing observations.\n",
      "  super().__init__(dependent, exog, weights=weights, check_rank=check_rank)\n"
     ]
    }
   ],
   "source": [
    "reload()\n",
    "# Convert data to data frame for panel regression\n",
    "beta_map = fund_bomber_ig.year_count_growth_beta_map\n",
    "# beta_map = fund_bomber_i.year_count_growth_beta_map\n",
    "# beta_map = firm_bomber_ig.year_count_growth_beta_map\n",
    "# beta_map = firm_bomber_ig.year_count_growth_beta_map\n",
    "\n",
    "df = dfUtils.map_to_df(beta_map)\n",
    "df = Tests.prep_panel(df, macro.fed_rate, 'fed_rate')\n",
    "\n",
    "results = Tests.panel(df, 'fed_rate')"
   ]
  }
 ],
 "metadata": {
  "kernelspec": {
   "display_name": "venv",
   "language": "python",
   "name": "python3"
  },
  "language_info": {
   "codemirror_mode": {
    "name": "ipython",
    "version": 3
   },
   "file_extension": ".py",
   "mimetype": "text/x-python",
   "name": "python",
   "nbconvert_exporter": "python",
   "pygments_lexer": "ipython3",
   "version": "3.8.1"
  }
 },
 "nbformat": 4,
 "nbformat_minor": 2
}
