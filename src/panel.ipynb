{
 "cells": [
  {
   "cell_type": "markdown",
   "metadata": {},
   "source": [
    "### Libraries"
   ]
  },
  {
   "cell_type": "code",
   "execution_count": 1,
   "metadata": {},
   "outputs": [],
   "source": [
    "import importlib\n",
    "\n",
    "import config as Config\n",
    "import constants.labels as Labels\n",
    "import hangar.FirmBomberFactory as FirmBomberFactory\n",
    "import hangar.FundBomberFactory as FundBomberFactory\n",
    "import hangar.DisplayModule as DisplayModule\n",
    "import models.firm as FirmModel\n",
    "import models.funding as FundingModel\n",
    "import models.investor as InvestorModel\n",
    "import models.macro as MacroModel\n",
    "import utils.dataframe as dfUtils\n",
    "import utils.file as FileUtils\n",
    "import utils.industry as IndustryUtils\n",
    "import utils.visualiser as Visualiser\n",
    "import utils.tests as Tests\n",
    "\n",
    "def reload():\n",
    "  importlib.reload(Config)\n",
    "  importlib.reload(Visualiser)\n",
    "  importlib.reload(DisplayModule)\n",
    "  importlib.reload(Tests)\n",
    "  importlib.reload(FirmBomberFactory)\n",
    "  importlib.reload(FundBomberFactory)"
   ]
  },
  {
   "cell_type": "markdown",
   "metadata": {},
   "source": [
    "### Configuration\n",
    "Configuration specified in src/config.js to avoid passing the same configurations around. Modify configurations as required, then run reload() to reload configurations without restarting the environment."
   ]
  },
  {
   "cell_type": "markdown",
   "metadata": {},
   "source": [
    "### Load Data\n",
    "Data obtained from Crunchbase and CEIC (for macro data), preprocessed, then stored in pickle files. This section retrieves the stored data and does additional preprocessing."
   ]
  },
  {
   "cell_type": "markdown",
   "metadata": {},
   "source": [
    "#### Load Investor Data"
   ]
  },
  {
   "cell_type": "code",
   "execution_count": 2,
   "metadata": {},
   "outputs": [],
   "source": [
    "# Read Investor Data\n",
    "investors = FileUtils.read_pickle(f\"investors\")"
   ]
  },
  {
   "cell_type": "code",
   "execution_count": 3,
   "metadata": {},
   "outputs": [],
   "source": [
    "# Get Public Funded Investors\n",
    "public_funded_investors = InvestorModel.get_public_funded_investors(investors)"
   ]
  },
  {
   "cell_type": "markdown",
   "metadata": {},
   "source": [
    "#### Load Company Data"
   ]
  },
  {
   "cell_type": "code",
   "execution_count": 4,
   "metadata": {},
   "outputs": [],
   "source": [
    "# Read Company Data\n",
    "firms = FileUtils.read_pickle(f\"{Config.country}_firms\")"
   ]
  },
  {
   "cell_type": "code",
   "execution_count": 5,
   "metadata": {},
   "outputs": [],
   "source": [
    "# Read Domain Data\n",
    "domain_created_year = FileUtils.read_pickle('domain_created_year')"
   ]
  },
  {
   "cell_type": "code",
   "execution_count": 6,
   "metadata": {},
   "outputs": [],
   "source": [
    "# Filter and Enrich Company Data\n",
    "firms = FirmModel.filter_for_profit(firms)\n",
    "firms = FirmModel.enrich_founded_year(firms, domain_created_year)\n",
    "firms = FirmModel.filter_founded_year(firms, Config.start_year, Config.end_year)\n",
    "firms = FirmModel.enrich_public_funded(firms, public_funded_investors)\n",
    "firms = firms.reset_index(drop=True)"
   ]
  },
  {
   "cell_type": "markdown",
   "metadata": {},
   "source": [
    "#### Load Funding Data"
   ]
  },
  {
   "cell_type": "code",
   "execution_count": 7,
   "metadata": {},
   "outputs": [],
   "source": [
    "# Read Funding Data\n",
    "funding = FileUtils.read_pickle(f\"funding\")"
   ]
  },
  {
   "cell_type": "code",
   "execution_count": 8,
   "metadata": {},
   "outputs": [],
   "source": [
    "# Filter and Enrich Funding Data\n",
    "funding = FundingModel.filter_announced_year(funding, Config.start_year, Config.end_year)\n",
    "funding = FundingModel.enrich_public_funded(funding, public_funded_investors)"
   ]
  },
  {
   "cell_type": "markdown",
   "metadata": {},
   "source": [
    "#### Load Macro Data"
   ]
  },
  {
   "cell_type": "code",
   "execution_count": 9,
   "metadata": {},
   "outputs": [],
   "source": [
    "# Read Macro Data\n",
    "real_gdp = FileUtils.read_pickle('real_gdp')\n",
    "fed_rate = FileUtils.read_pickle('fed_rate')"
   ]
  },
  {
   "cell_type": "code",
   "execution_count": 10,
   "metadata": {},
   "outputs": [],
   "source": [
    "# Filter Macro Data\n",
    "real_gdp = real_gdp['United States']\n",
    "real_gdp = real_gdp[real_gdp.index >= Config.start_year]\n",
    "real_gdp = real_gdp[real_gdp.index < Config.end_year]\n",
    "\n",
    "fed_rate = fed_rate['Fed Rate']\n",
    "fed_rate = fed_rate[fed_rate.index >= Config.start_year]\n",
    "fed_rate = fed_rate[fed_rate.index < Config.end_year]"
   ]
  },
  {
   "cell_type": "code",
   "execution_count": 11,
   "metadata": {},
   "outputs": [],
   "source": [
    "# Store Macro Data\n",
    "macro = MacroModel.Macro(real_gdp, fed_rate)"
   ]
  },
  {
   "cell_type": "markdown",
   "metadata": {},
   "source": [
    "### Load Other Data"
   ]
  },
  {
   "cell_type": "code",
   "execution_count": 12,
   "metadata": {},
   "outputs": [],
   "source": [
    "# Industry Labels\n",
    "industry_groups = IndustryUtils.get_industry_groups()\n",
    "industries = IndustryUtils.get_industries()"
   ]
  },
  {
   "cell_type": "markdown",
   "metadata": {},
   "source": [
    "### Preprocess Data"
   ]
  },
  {
   "cell_type": "code",
   "execution_count": 13,
   "metadata": {},
   "outputs": [],
   "source": [
    "# Load Bombers\n",
    "# reload()\n",
    "firm_bomber_i = FirmBomberFactory.FirmBomber(firms, targets=industries, target_col=Labels.industries)\n",
    "firm_bomber_ig = FirmBomberFactory.FirmBomber(firms, targets=industry_groups, target_col=Labels.industry_groups)"
   ]
  },
  {
   "cell_type": "code",
   "execution_count": 14,
   "metadata": {},
   "outputs": [],
   "source": [
    "# Load Bombers\n",
    "# reload()\n",
    "fund_bomber_ig = FundBomberFactory.FundBomber(funding, targets=industry_groups, target_col=Labels.industry_groups)\n",
    "fund_bomber_i = FundBomberFactory.FundBomber(funding, targets=industries, target_col=Labels.industries)"
   ]
  },
  {
   "cell_type": "markdown",
   "metadata": {},
   "source": [
    "### Research Question: \"Trend-Following\"\n",
    "Have company founders and investors become more prone to trend-following over time, rather than relying on their own judgement? Trend-following results in bubbly behaviour, with sharp spikes and sharp drops, likely cause issues as bad causes are funded in the bubble and good causes are not funded in the crash. Note that a bubble can be defined as \"trend-following\" or as \"deviation from fundamentals\"; it's possible to follow a trend and by coincidence approach the fundamentals, though this likely does not hold true in the long run. I will use the \"trend-following\" definition, since \"fundamental\" are difficult to define, and understanding trend-following behaviour is still is empirically useful.\n",
    "\n",
    "I use a year range of 1960 to 2019 as that is what is available on both Crunchbase and CEIC (for macro data), as well as to avoid what looks like incomplete data post 2019. There are dramatically few companies being reported to be founded around that time period, which may be partially attributed to the Coronavirus pandemic, but is still somewhat suspect."
   ]
  },
  {
   "cell_type": "code",
   "execution_count": 15,
   "metadata": {},
   "outputs": [
    {
     "name": "stderr",
     "output_type": "stream",
     "text": [
      "/Users/celine/Projects/IO/venv/lib/python3.8/site-packages/linearmodels/panel/model.py:1216: MissingValueWarning: \n",
      "Inputs contain missing values. Dropping rows with missing observations.\n",
      "  super().__init__(dependent, exog, weights=weights, check_rank=check_rank)\n"
     ]
    },
    {
     "name": "stdout",
     "output_type": "stream",
     "text": [
      "results:                           PanelOLS Estimation Summary                           \n",
      "================================================================================\n",
      "Dep. Variable:          rolling_value   R-squared:                        0.0503\n",
      "Estimator:                   PanelOLS   R-squared (Between):              1.0000\n",
      "No. Observations:                2860   R-squared (Within):            5.804e-05\n",
      "Date:                Sat, Mar 02 2024   R-squared (Overall):              0.0503\n",
      "Time:                        19:23:56   Log-likelihood                   -9791.2\n",
      "Cov. Estimator:             Clustered                                           \n",
      "                                        F-statistic:                      2.9745\n",
      "Entities:                          49   P-value                           0.0000\n",
      "Avg Obs:                       58.367   Distribution:                 F(50,2809)\n",
      "Min Obs:                       44.000                                           \n",
      "Max Obs:                       60.000   F-statistic (robust):            8.6e+17\n",
      "                                        P-value                           0.0000\n",
      "Time periods:                      60   Distribution:                 F(50,2809)\n",
      "Avg Obs:                       47.667                                           \n",
      "Min Obs:                       42.000                                           \n",
      "Max Obs:                       49.000                                           \n",
      "                                                                                \n",
      "                                             Parameter Estimates                                             \n",
      "=============================================================================================================\n",
      "                                           Parameter  Std. Err.     T-stat    P-value    Lower CI    Upper CI\n",
      "-------------------------------------------------------------------------------------------------------------\n",
      "const                                        -0.6715     0.3113    -2.1573     0.0311     -1.2818     -0.0612\n",
      "year_norm                                     0.0003     0.0127     0.0246     0.9804     -0.0246      0.0252\n",
      "industry.Advertising                         -0.5901     0.0068    -86.722     0.0000     -0.6035     -0.5768\n",
      "industry.Agriculture and Farming             -0.0256     0.0103    -2.4969     0.0126     -0.0457     -0.0055\n",
      "industry.Apps                                -9.2930     0.0208    -447.47     0.0000     -9.3338     -9.2523\n",
      "industry.Artificial Intelligence (AI)         0.0723     0.0749     0.9657     0.3343     -0.0746      0.2192\n",
      "industry.Biotechnology                        1.1599     0.0107     108.61     0.0000      1.1390      1.1808\n",
      "industry.Blockchain and Cryptocurrency        1.0017     0.0863     11.607     0.0000      0.8325      1.1710\n",
      "industry.Clothing and Apparel                -0.7817     0.0087    -89.460     0.0000     -0.7989     -0.7646\n",
      "industry.Commerce and Shopping                1.0243     0.0103     99.894     0.0000      1.0042      1.0444\n",
      "industry.Community and Lifestyle              0.4209     0.0116     36.410     0.0000      0.3982      0.4436\n",
      "industry.Consumer Electronics                 1.3711     0.0057     242.35     0.0000      1.3600      1.3822\n",
      "industry.Consumer Goods                      -0.0126     0.0103    -1.2301     0.2188     -0.0327      0.0075\n",
      "industry.Content and Publishing               1.5492     0.0038     404.26     0.0000      1.5417      1.5568\n",
      "industry.Data and Analytics                  -0.2264     0.0056    -40.695     0.0000     -0.2373     -0.2155\n",
      "industry.Design                               0.0114     0.0103     1.1149     0.2650     -0.0087      0.0315\n",
      "industry.Education                            1.1352     0.0103     110.71     0.0000      1.1151      1.1553\n",
      "industry.Energy                               0.4172     0.0103     40.688     0.0000      0.3971      0.4373\n",
      "industry.Events                               0.2796     0.0098     28.550     0.0000      0.2604      0.2988\n",
      "industry.Financial Services                   1.5565     0.0103     151.80     0.0000      1.5364      1.5766\n",
      "industry.Food and Beverage                    0.5878     0.0064     91.600     0.0000      0.5752      0.6003\n",
      "industry.Gaming                               0.7180     0.0151     47.613     0.0000      0.6884      0.7475\n",
      "industry.Government and Military              0.2614     0.0046     57.397     0.0000      0.2524      0.2703\n",
      "industry.Hardware                            -2.3760     0.0103    -231.72     0.0000     -2.3961     -2.3559\n",
      "industry.Health Care                         -0.1914     0.0103    -18.662     0.0000     -0.2115     -0.1713\n",
      "industry.Information Technology               1.0966     0.0103     106.94     0.0000      1.0765      1.1167\n",
      "industry.Internet Services                   -0.9811     0.0103    -94.853     0.0000     -1.0014     -0.9608\n",
      "industry.Lending and Investments             -0.6718     0.0103    -65.540     0.0000     -0.6919     -0.6517\n",
      "industry.Manufacturing                       -0.2216     0.0103    -21.608     0.0000     -0.2417     -0.2015\n",
      "industry.Media and Entertainment              0.0107     0.0103     1.0420     0.2975     -0.0094      0.0308\n",
      "industry.Messaging and Telecommunications    -0.0728     0.0120    -6.0609     0.0000     -0.0963     -0.0492\n",
      "industry.Mobile                               0.7922     0.0067     118.51     0.0000      0.7791      0.8053\n",
      "industry.Music and Audio                     -0.0018     0.0103    -0.1757     0.8606     -0.0219      0.0183\n",
      "industry.Natural Resources                    0.2837     0.0144     19.745     0.0000      0.2555      0.3119\n",
      "industry.Navigation and Mapping              -0.0417     0.0076    -5.5165     0.0000     -0.0565     -0.0269\n",
      "industry.Other                                0.2846     0.0074     38.413     0.0000      0.2701      0.2991\n",
      "industry.Payments                             0.5463     0.0063     87.398     0.0000      0.5341      0.5586\n",
      "industry.Platforms                            1.4831     0.0076     194.22     0.0000      1.4681      1.4981\n",
      "industry.Privacy and Security                 1.0258     0.0058     177.91     0.0000      1.0145      1.0371\n",
      "industry.Professional Services                2.9924     0.0103     291.83     0.0000      2.9723      3.0125\n",
      "industry.Real Estate                          1.8162     0.0103     177.12     0.0000      1.7961      1.8363\n",
      "industry.Sales and Marketing                  1.1672     0.0103     113.83     0.0000      1.1471      1.1873\n",
      "industry.Science and Engineering              0.3592     0.0103     35.033     0.0000      0.3391      0.3793\n",
      "industry.Social Impact                        0.3293     0.0052     62.965     0.0000      0.3190      0.3395\n",
      "industry.Software                             4.0483     0.0103     394.81     0.0000      4.0281      4.0684\n",
      "industry.Sports                               0.4597     0.0103     44.828     0.0000      0.4395      0.4798\n",
      "industry.Sustainability                      -1.1196     0.0100    -111.86     0.0000     -1.1392     -1.1000\n",
      "industry.Transportation                      -2.4085     0.0103    -234.89     0.0000     -2.4287     -2.3884\n",
      "industry.Travel and Tourism                   0.4422     0.0103     43.121     0.0000      0.4220      0.4623\n",
      "industry.Video                                0.2260     0.0103     21.851     0.0000      0.2057      0.2463\n",
      "fed_rate                                      0.0161     0.0555     0.2895     0.7722     -0.0927      0.1249\n",
      "=============================================================================================================\n",
      "\n",
      "\n"
     ]
    }
   ],
   "source": [
    "# reload()\n",
    "# Convert data to data frame for panel regression\n",
    "# beta_map = fund_bomber_ig.year_count_growth_beta_map\n",
    "# beta_map = fund_bomber_i.year_count_growth_beta_map\n",
    "beta_map = firm_bomber_ig.year_count_growth_beta_map\n",
    "# beta_map = firm_bomber_i.year_count_growth_beta_map\n",
    "\n",
    "df = dfUtils.map_to_df(beta_map)\n",
    "df = Tests.prep_panel(df, macro.fed_rate, 'fed_rate')\n",
    "\n",
    "results = Tests.panel(df, 'fed_rate', entities=True)"
   ]
  }
 ],
 "metadata": {
  "kernelspec": {
   "display_name": "venv",
   "language": "python",
   "name": "python3"
  },
  "language_info": {
   "codemirror_mode": {
    "name": "ipython",
    "version": 3
   },
   "file_extension": ".py",
   "mimetype": "text/x-python",
   "name": "python",
   "nbconvert_exporter": "python",
   "pygments_lexer": "ipython3",
   "version": "3.8.1"
  }
 },
 "nbformat": 4,
 "nbformat_minor": 2
}
